{
 "cells": [
  {
   "cell_type": "code",
   "execution_count": 1,
   "metadata": {},
   "outputs": [],
   "source": [
    "import spotipy, json, os\n",
    "from spotipy.oauth2 import SpotifyOAuth\n",
    "import pandas as pd\n",
    "import numpy as np\n",
    "import time\n",
    "\n",
    "from tqdm import tqdm"
   ]
  },
  {
   "cell_type": "code",
   "execution_count": 4,
   "metadata": {},
   "outputs": [],
   "source": [
    "os.environ['SPOTIPY_CLIENT_SECRET'] = '4ba6ced99c9d4f95be4567d28b4e5a65'\n",
    "os.environ['SPOTIPY_REDIRECT_URI'] = 'http://localhost:8008/callback'\n",
    "os.environ['SPOTIPY_CLIENT_ID'] = '7fd6a4b022fc451d9f49ccc2371a6573'\n",
    "\n",
    "scope = \"user-library-read\"\n",
    "\n",
    "sp = spotipy.Spotify(auth_manager=SpotifyOAuth(scope=scope))\n",
    "\n",
    "base = 'dataframes'"
   ]
  },
  {
   "cell_type": "markdown",
   "metadata": {},
   "source": [
    "### First loop got 198800 records taking 1225 seconds \n",
    "### Second loop got 920500 records taking 6194 seconds"
   ]
  },
  {
   "cell_type": "code",
   "execution_count": 30,
   "metadata": {},
   "outputs": [
    {
     "name": "stdout",
     "output_type": "stream",
     "text": [
      "time taken 0.39 seconds\n"
     ]
    }
   ],
   "source": [
    "start = time.time()\n",
    "result = list()\n",
    "\n",
    "columns = [\"danceability\", \"energy\", \"key\", \"loudness\", \"mode\", \"speechiness\",\n",
    "        \"acousticness\", \"instrumentalness\", \"liveness\", \"valence\", \"tempo\",\n",
    "        \"type\", \"id\", \"uri\", \"track_href\", \"analysis_url\", \"duration_ms\",\n",
    "        \"time_signature\"]\n",
    "\n",
    "\n",
    "tracks_df = pd.read_hdf(base + 'poopoo.h5', 'tracks')\n",
    "tracks_df = tracks_df.rename({0:'track_uri'}, axis=1)\n",
    "\n",
    "tracks_copy = tracks_df.copy()\n",
    "for col in columns:\n",
    "    tracks_copy[col] = \"\"\n",
    "\n",
    "index = 0\n",
    "for i in range(index, len(tracks_copy), 100):\n",
    "    dic_values = {col: [] for col in columns}\n",
    "    result = tracks_copy['track_uri'][i:i+100].tolist()\n",
    "    features = sp.audio_features(result)\n",
    "    for col in columns:\n",
    "        for k in features:\n",
    "            if k is None:\n",
    "                dic_values[col].append(\" \")\n",
    "            else:\n",
    "                dic_values[col].append(k[col])\n",
    "             # print(k)\n",
    "             # print(f'{col} {k[col]}')\n",
    "        \n",
    "        tracks_copy[col][i:i+100] = dic_values[col]\n",
    "    #print(i) # to check progress of tracks\n",
    "    break\n",
    "print(f\"time taken {time.time()-start:.2f} seconds\")"
   ]
  },
  {
   "cell_type": "code",
   "execution_count": 31,
   "metadata": {},
   "outputs": [
    {
     "name": "stdout",
     "output_type": "stream",
     "text": [
      "<class 'pandas.core.frame.DataFrame'>\n",
      "Int64Index: 170089 entries, 0 to 170088\n",
      "Data columns (total 19 columns):\n",
      " #   Column            Non-Null Count   Dtype \n",
      "---  ------            --------------   ----- \n",
      " 0   track_uri         170089 non-null  object\n",
      " 1   danceability      170089 non-null  object\n",
      " 2   energy            170089 non-null  object\n",
      " 3   key               170089 non-null  object\n",
      " 4   loudness          170089 non-null  object\n",
      " 5   mode              170089 non-null  object\n",
      " 6   speechiness       170089 non-null  object\n",
      " 7   acousticness      170089 non-null  object\n",
      " 8   instrumentalness  170089 non-null  object\n",
      " 9   liveness          170089 non-null  object\n",
      " 10  valence           170089 non-null  object\n",
      " 11  tempo             170089 non-null  object\n",
      " 12  type              170089 non-null  object\n",
      " 13  id                170089 non-null  object\n",
      " 14  uri               170089 non-null  object\n",
      " 15  track_href        170089 non-null  object\n",
      " 16  analysis_url      170089 non-null  object\n",
      " 17  duration_ms       170089 non-null  object\n",
      " 18  time_signature    170089 non-null  object\n",
      "dtypes: object(19)\n",
      "memory usage: 26.0+ MB\n"
     ]
    }
   ],
   "source": [
    "tracks_copy.info()"
   ]
  },
  {
   "cell_type": "markdown",
   "metadata": {},
   "source": [
    "### Convert the the features to np.float64"
   ]
  },
  {
   "cell_type": "code",
   "execution_count": 26,
   "metadata": {},
   "outputs": [],
   "source": [
    "float_features = ['danceability', 'energy', 'key', 'loudness', 'mode', 'speechiness', 'acousticness', 'instrumentalness',\n",
    "           'liveness', 'valence', 'tempo', 'duration_ms', 'time_signature']\n",
    "for s in float_features:\n",
    "    tracks_copy[s] = pd.to_numeric(tracks_copy[s], errors='coerce')"
   ]
  },
  {
   "cell_type": "code",
   "execution_count": 28,
   "metadata": {},
   "outputs": [],
   "source": [
    "# save the dataframe into h5\n",
    "\n",
    "tracks_copy.to_hdf(base + 'tracks.h5', 'tracks', nan_rep='null')"
   ]
  },
  {
   "cell_type": "markdown",
   "metadata": {},
   "source": [
    "## Get artist information"
   ]
  },
  {
   "cell_type": "code",
   "execution_count": 5,
   "metadata": {},
   "outputs": [
    {
     "name": "stderr",
     "output_type": "stream",
     "text": [
      "100%|██████████████████████████████████████████████████████████████████████████████████| 11/11 [00:04<00:00,  2.68it/s]\n"
     ]
    },
    {
     "name": "stdout",
     "output_type": "stream",
     "text": [
      "Stored files as h5\n"
     ]
    }
   ],
   "source": [
    "def make_artist_df(path):\n",
    "    artist = []\n",
    "    artist_tracks = []\n",
    "    for file in tqdm(os.listdir(path)):\n",
    "        if not file.endswith(\".json\"):\n",
    "            continue\n",
    "        with open(f'{path}/{file}') as f:\n",
    "            js_slice = json.load(f)\n",
    "            for playlist in js_slice['playlists']:\n",
    "                for track in playlist['tracks']:\n",
    "                    artist_tracks.append([track['artist_uri']])\n",
    "    artist_tracks_df = pd.DataFrame(artist_tracks, columns=['artist_uri'])\n",
    "    artist_tracks_df.to_hdf(base + '/artist_tracks.h5', 'artist_tracks')\n",
    "    print('Stored files as h5')\n",
    "\n",
    "make_artist_df('raw_data');"
   ]
  },
  {
   "cell_type": "code",
   "execution_count": 13,
   "metadata": {},
   "outputs": [],
   "source": [
    "artist_tracks_df = pd.read_hdf(base + '/artist_tracks.h5', 'artist_tracks')\n",
    "unique_artists = artist_tracks_df['artist_uri'].unique()"
   ]
  },
  {
   "cell_type": "code",
   "execution_count": 66,
   "metadata": {},
   "outputs": [
    {
     "name": "stderr",
     "output_type": "stream",
     "text": [
      "100%|████████████████████████████████████████████████████████████████████████████████| 718/718 [01:10<00:00, 10.22it/s]"
     ]
    },
    {
     "name": "stdout",
     "output_type": "stream",
     "text": [
      "time taken 70.34 seconds\n"
     ]
    },
    {
     "name": "stderr",
     "output_type": "stream",
     "text": [
      "\n"
     ]
    }
   ],
   "source": [
    "start = time.time()\n",
    "result = dict()\n",
    "genres = list()\n",
    "\n",
    "for i in tqdm(range(0, len(unique_artists), 50)):\n",
    "    results = sp.artists(unique_artists[i:i+50])\n",
    "    for j in results['artists']:\n",
    "        all_gen = \",\".join(j['genres'])\n",
    "        genres.append([j['uri'], j['name'], all_gen])\n",
    "\n",
    "genres_df = pd.DataFrame(genres, columns=['artist_uri', 'name', 'genres'])\n",
    "genres_df.to_hdf(base + '/genres.h5', 'genres')\n",
    "\n",
    "print(f\"time taken {time.time()-start:.2f} seconds\")"
   ]
  },
  {
   "cell_type": "code",
   "execution_count": 67,
   "metadata": {},
   "outputs": [
    {
     "data": {
      "text/html": [
       "<div>\n",
       "<style scoped>\n",
       "    .dataframe tbody tr th:only-of-type {\n",
       "        vertical-align: middle;\n",
       "    }\n",
       "\n",
       "    .dataframe tbody tr th {\n",
       "        vertical-align: top;\n",
       "    }\n",
       "\n",
       "    .dataframe thead th {\n",
       "        text-align: right;\n",
       "    }\n",
       "</style>\n",
       "<table border=\"1\" class=\"dataframe\">\n",
       "  <thead>\n",
       "    <tr style=\"text-align: right;\">\n",
       "      <th></th>\n",
       "      <th>artist_uri</th>\n",
       "      <th>name</th>\n",
       "      <th>genres</th>\n",
       "    </tr>\n",
       "  </thead>\n",
       "  <tbody>\n",
       "    <tr>\n",
       "      <th>0</th>\n",
       "      <td>spotify:artist:2wIVse2owClT7go1WT98tk</td>\n",
       "      <td>Missy Elliott</td>\n",
       "      <td>dance pop,hip hop,hip pop,pop,pop rap,r&amp;b,rap,...</td>\n",
       "    </tr>\n",
       "    <tr>\n",
       "      <th>1</th>\n",
       "      <td>spotify:artist:26dSoYclwsYLMAKD3tpOr4</td>\n",
       "      <td>Britney Spears</td>\n",
       "      <td>dance pop,pop,pop rap,post-teen pop</td>\n",
       "    </tr>\n",
       "    <tr>\n",
       "      <th>2</th>\n",
       "      <td>spotify:artist:6vWDO969PvNqNYHIOW5v0m</td>\n",
       "      <td>Beyoncé</td>\n",
       "      <td>dance pop,pop,post-teen pop,r&amp;b</td>\n",
       "    </tr>\n",
       "    <tr>\n",
       "      <th>3</th>\n",
       "      <td>spotify:artist:31TPClRtHm23RisEBtV3X7</td>\n",
       "      <td>Justin Timberlake</td>\n",
       "      <td>dance pop,pop</td>\n",
       "    </tr>\n",
       "    <tr>\n",
       "      <th>4</th>\n",
       "      <td>spotify:artist:5EvFsr3kj42KNv97ZEnqij</td>\n",
       "      <td>Shaggy</td>\n",
       "      <td>dance pop,pop rap,reggae fusion</td>\n",
       "    </tr>\n",
       "  </tbody>\n",
       "</table>\n",
       "</div>"
      ],
      "text/plain": [
       "                              artist_uri               name  \\\n",
       "0  spotify:artist:2wIVse2owClT7go1WT98tk      Missy Elliott   \n",
       "1  spotify:artist:26dSoYclwsYLMAKD3tpOr4     Britney Spears   \n",
       "2  spotify:artist:6vWDO969PvNqNYHIOW5v0m            Beyoncé   \n",
       "3  spotify:artist:31TPClRtHm23RisEBtV3X7  Justin Timberlake   \n",
       "4  spotify:artist:5EvFsr3kj42KNv97ZEnqij             Shaggy   \n",
       "\n",
       "                                              genres  \n",
       "0  dance pop,hip hop,hip pop,pop,pop rap,r&b,rap,...  \n",
       "1                dance pop,pop,pop rap,post-teen pop  \n",
       "2                    dance pop,pop,post-teen pop,r&b  \n",
       "3                                      dance pop,pop  \n",
       "4                    dance pop,pop rap,reggae fusion  "
      ]
     },
     "execution_count": 67,
     "metadata": {},
     "output_type": "execute_result"
    }
   ],
   "source": [
    "genres_df.head()"
   ]
  },
  {
   "cell_type": "code",
   "execution_count": null,
   "metadata": {},
   "outputs": [],
   "source": []
  }
 ],
 "metadata": {
  "kernelspec": {
   "display_name": "Python 3",
   "language": "python",
   "name": "python3"
  },
  "language_info": {
   "codemirror_mode": {
    "name": "ipython",
    "version": 3
   },
   "file_extension": ".py",
   "mimetype": "text/x-python",
   "name": "python",
   "nbconvert_exporter": "python",
   "pygments_lexer": "ipython3",
   "version": "3.8.5"
  }
 },
 "nbformat": 4,
 "nbformat_minor": 4
}
