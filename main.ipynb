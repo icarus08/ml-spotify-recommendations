{
 "cells": [
  {
   "cell_type": "code",
   "execution_count": 4,
   "metadata": {},
   "outputs": [],
   "source": [
    "import pandas as pd\n",
    "import numpy as np\n",
    "import json\n",
    "import os\n",
    "\n",
    "# constants\n",
    "DATAFRAME_PATH = 'dataframes'"
   ]
  },
  {
   "cell_type": "markdown",
   "metadata": {},
   "source": [
    "### Create the playlists dataframe from raw JSON data"
   ]
  },
  {
   "cell_type": "code",
   "execution_count": null,
   "metadata": {},
   "outputs": [],
   "source": [
    "'''\n",
    "playlist_col = ['collaborative', 'duration_ms', 'modified_at', \n",
    "                'name', 'num_albums', 'num_artists', 'num_edits',\n",
    "                'num_followers', 'num_tracks', 'pid']\n",
    "    tracks_col = ['album_name', 'album_uri', 'artist_name', 'artist_uri', \n",
    "                  'duration_ms', 'track_name', 'track_uri'] \n",
    "    playlist_test_col = ['name', 'num_holdouts', 'num_samples', 'num_tracks', 'pid']\n",
    "'''\n",
    "def load_playlists(path):\n",
    "    for file in os.listdir(\"raw_data\"):\n",
    "        if not file.endswith(\".json\"):\n",
    "            continue\n",
    "        with open(\"raw_data/\"+file) as f:\n",
    "            js_slice = json.load(f)\n",
    "            for playlist in js_slice[\"playlists\"]:\n",
    "                playlist['tracks'] = [track['track_uri'] for track in playlist['tracks']]\n",
    "                yield playlist\n",
    "        print(f\"Added playlists from {file}\")\n",
    "\n",
    "df = pd.DataFrame(load_playlists(DATAFRAME_PATH + '/playlists.h5'))\n",
    "df.to_hdf(DATAFRAME_PATH + '/playlists.h5', 'playlists')\n",
    "print('Stored files to playlists.h5')"
   ]
  },
  {
   "cell_type": "markdown",
   "metadata": {},
   "source": [
    "### Read the playlists & tracks dataframes"
   ]
  },
  {
   "cell_type": "code",
   "execution_count": 68,
   "metadata": {},
   "outputs": [],
   "source": [
    "playlists_df = pd.read_hdf(DATAFRAME_PATH + '/playlists.h5', 'playlists')\n",
    "tracks_df = pd.read_hdf(DATAFRAME_PATH + '/tracks.h5', 'tracks')"
   ]
  },
  {
   "cell_type": "code",
   "execution_count": 69,
   "metadata": {},
   "outputs": [],
   "source": [
    "null_tracks = tracks_df[tracks_df.isnull().any(1)]\n",
    "tracks_df = tracks_df.dropna()"
   ]
  },
  {
   "cell_type": "code",
   "execution_count": 81,
   "metadata": {},
   "outputs": [
    {
     "name": "stdout",
     "output_type": "stream",
     "text": [
      "16661251\n"
     ]
    },
    {
     "data": {
      "text/plain": [
       "16661209"
      ]
     },
     "execution_count": 81,
     "metadata": {},
     "output_type": "execute_result"
    }
   ],
   "source": [
    "tracks_to_remove =  null_tracks['tracks'].tolist()\n",
    "total_tracks_all_playlists = playlists_df['tracks'].apply(len).sum()\n",
    "\n",
    "def remove_na_tracks(row):\n",
    "    row['tracks'] = list(filter(lambda track: track not in tracks_to_remove, row['tracks']))\n",
    "    return row\n",
    "\n",
    "playlists_df = playlists_df.apply(remove_na_tracks, axis=1)\n",
    "\n",
    "print(f'Removed {total_tracks_all_playlists - playlists_df['tracks'].apply(len).sum()} tracks from playlists')"
   ]
  },
  {
   "cell_type": "markdown",
   "metadata": {},
   "source": [
    "## Building the train and test sets"
   ]
  },
  {
   "cell_type": "code",
   "execution_count": 82,
   "metadata": {},
   "outputs": [],
   "source": [
    "from sklearn.model_selection import train_test_split\n",
    "\n",
    "X_train, X_test = train_test_split(playlists_df, test_size=0.2)"
   ]
  },
  {
   "cell_type": "code",
   "execution_count": null,
   "metadata": {},
   "outputs": [],
   "source": [
    "# Modifying the test set\n",
    "unique_tracks_train = pd.unique(X_train['tracks'].explode())\n",
    "                                \n",
    "def remove_unseen_tracks(row):\n",
    "    row['tracks'] = list(filter(lambda track: track in unique_tracks_train, row['tracks']))\n",
    "    return row\n",
    "                                \n",
    "X_test_incomplete = X_test[X_test['tracks'].apply(len) > 20]\n",
    "X_test_incomplete['tracks'] = X_test_incomplete.apply(remove_unseen_tracks, axis=1)"
   ]
  },
  {
   "cell_type": "code",
   "execution_count": null,
   "metadata": {},
   "outputs": [],
   "source": [
    "# Create challenge set\n",
    "from random import sample\n",
    "from functools import partial\n",
    "\n",
    "X_test_incomplete['tracks'] = X_test_incomplete['tracks'].apply(partial(sample,10))"
   ]
  }
 ],
 "metadata": {
  "kernelspec": {
   "display_name": "Python 3",
   "language": "python",
   "name": "python3"
  },
  "language_info": {
   "codemirror_mode": {
    "name": "ipython",
    "version": 3
   },
   "file_extension": ".py",
   "mimetype": "text/x-python",
   "name": "python",
   "nbconvert_exporter": "python",
   "pygments_lexer": "ipython3",
   "version": "3.8.5"
  }
 },
 "nbformat": 4,
 "nbformat_minor": 4
}
