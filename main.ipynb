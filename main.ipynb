{
 "cells": [
  {
   "cell_type": "code",
   "execution_count": 1,
   "metadata": {},
   "outputs": [],
   "source": [
    "import pandas as pd\n",
    "import numpy as np\n",
    "import json\n",
    "import os\n",
    "\n",
    "# constants\n",
    "DATAFRAME_PATH = 'dataframes'"
   ]
  },
  {
   "cell_type": "markdown",
   "metadata": {},
   "source": [
    "### Create the playlists dataframe from raw JSON data"
   ]
  },
  {
   "cell_type": "code",
   "execution_count": null,
   "metadata": {},
   "outputs": [],
   "source": [
    "# pre-load the pre-prepared all_tracks dataframe\n",
    "all_tracks_df = pd.read_hdf(DATAFRAME_PATH + '/all_tracks.h5', 'tracks')\n",
    "null_tracks = all_tracks_df[all_tracks_df.isnull().any(1)]['tracks']\n",
    "\n",
    "playlist_track_info = []\n",
    "\n",
    "def load_playlists(path):\n",
    "    for file in os.listdir(\"raw_data\"):\n",
    "        if not file.endswith(\".json\"):\n",
    "            continue\n",
    "        with open(\"raw_data/\"+file) as f:\n",
    "            js_slice = json.load(f)\n",
    "            for playlist in js_slice['playlists']:\n",
    "                for track in playlist['tracks']:\n",
    "                    if track['track_uri'] not in null_tracks:\n",
    "                        playlist_track_info.append([track['track_uri'], playlist['pid'], track['pos']])\n",
    "                playlist.pop('tracks')\n",
    "                yield playlist\n",
    "        print(f\"Added playlists from {file}\")\n",
    "\n",
    "main_playlist_df = pd.DataFrame(load_playlists(DATAFRAME_PATH + '/playlists.h5'))\n",
    "playlist_track_info_df = pd.DataFrame(playlist_track_info, columns=['track_uri', 'pid', 'pos'])\n",
    "playlist_track_info_df.set_index('pid')\n",
    "\n",
    "print('Storing h5 files...')\n",
    "main_playlist_df.to_hdf(DATAFRAME_PATH + '/playlists.h5', 'playlists')\n",
    "playlist_track_info_df.to_hdf(DATAFRAME_PATH + '/playlist_track_info.h5', 'track_info')\n",
    "print('Stored files as h5')"
   ]
  },
  {
   "cell_type": "markdown",
   "metadata": {},
   "source": [
    "### Read the playlists, tracks and track_info dataframes"
   ]
  },
  {
   "cell_type": "code",
   "execution_count": 2,
   "metadata": {},
   "outputs": [],
   "source": [
    "playlists_df = pd.read_hdf(DATAFRAME_PATH + '/playlists.h5', 'playlists')\n",
    "tracks_df = pd.read_hdf(DATAFRAME_PATH + '/clean_tracks.h5', 'tracks')\n",
    "track_info_df = pd.read_hdf(DATAFRAME_PATH + '/playlist_track_info.h5', 'track_info')"
   ]
  },
  {
   "cell_type": "markdown",
   "metadata": {},
   "source": [
    "## Building the train and test sets"
   ]
  },
  {
   "cell_type": "code",
   "execution_count": 3,
   "metadata": {},
   "outputs": [],
   "source": [
    "from sklearn.model_selection import train_test_split\n",
    "\n",
    "X_train, X_test = train_test_split(playlists_df, test_size=0.2)"
   ]
  },
  {
   "cell_type": "code",
   "execution_count": 4,
   "metadata": {},
   "outputs": [],
   "source": [
    "# Modifying the test set\n",
    "X_train_track_info = track_info_df[track_info_df['pid'].isin(X_train['pid'].values)]\n",
    "X_test_track_info = track_info_df[track_info_df['pid'].isin(X_test['pid'].values)]\n",
    "\n",
    "# Keep only tracks that are in the training set in the test set \n",
    "X_train_track_uris = pd.unique(X_train_track_info['track_uri'])\n",
    "X_test_track_info_ground_truth = X_test_track_info[X_test_track_info['track_uri'].isin(X_train_track_uris)]"
   ]
  },
  {
   "cell_type": "code",
   "execution_count": 6,
   "metadata": {},
   "outputs": [],
   "source": [
    "# This cell can take long to run ~10mins\n",
    "# if .h5 files are available, use those\n",
    "\n",
    "challenge_set_list = []\n",
    "new_test_set = []\n",
    "\n",
    "def frac_to_sample(playlist_tracks):\n",
    "    if playlist_tracks.size >= 2:\n",
    "        return 0.5\n",
    "    else:\n",
    "        return None\n",
    "        \n",
    "def build_challenge_set():\n",
    "    for pid in X_test['pid']:\n",
    "        playlist_tracks = X_test_track_info_ground_truth[X_test_track_info_ground_truth['pid'] == pid]\n",
    "        frac = frac_to_sample(playlist_tracks)\n",
    "        if frac is not None and frac > 0:\n",
    "            random_sample_df = playlist_tracks.sample(frac = frac, random_state=1)\n",
    "            num_sample = random_sample_df.size\n",
    "            new_test_set.append(X_test[X_test['pid'] == pid].values.flatten().tolist() + [num_sample, playlist_tracks.size-num_sample])\n",
    "            for index, track in random_sample_df.iterrows():\n",
    "                challenge_set_list.append([track['track_uri'], track['pid'], track['pos']])\n",
    "    \n",
    "build_challenge_set()"
   ]
  },
  {
   "cell_type": "code",
   "execution_count": 13,
   "metadata": {},
   "outputs": [],
   "source": [
    "X_challenge = pd.DataFrame(new_test_set, columns=list(X_test.columns) + ['num_of_seeds', 'num_witheld'])\n",
    "X_challenge_track_info = pd.DataFrame(challenge_set_list, columns=list(X_test_track_info_ground_truth.columns))\n",
    "\n",
    "# Write challenge set as hdf\n",
    "X_challenge.to_hdf(DATAFRAME_PATH + '/challenge_playlists.h5', 'playlists')\n",
    "X_challenge_track_info.to_hdf(DATAFRAME_PATH + '/challenge_playlist_track_info.h5', 'track_info')"
   ]
  },
  {
   "cell_type": "code",
   "execution_count": 15,
   "metadata": {},
   "outputs": [],
   "source": [
    "# Load challenge dataframes\n",
    "X_challenge_set = pd.read_hdf(DATAFRAME_PATH + '/challenge_playlists.h5', 'playlists')\n",
    "X_challenge_set_track_info = pd.read_hdf(DATAFRAME_PATH + '/challenge_playlist_track_info.h5', 'track_info')"
   ]
  }
 ],
 "metadata": {
  "kernelspec": {
   "display_name": "Python 3",
   "language": "python",
   "name": "python3"
  },
  "language_info": {
   "codemirror_mode": {
    "name": "ipython",
    "version": 3
   },
   "file_extension": ".py",
   "mimetype": "text/x-python",
   "name": "python",
   "nbconvert_exporter": "python",
   "pygments_lexer": "ipython3",
   "version": "3.8.5"
  }
 },
 "nbformat": 4,
 "nbformat_minor": 4
}
