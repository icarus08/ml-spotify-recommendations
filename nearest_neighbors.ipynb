{
 "cells": [
  {
   "cell_type": "code",
   "execution_count": 516,
   "metadata": {},
   "outputs": [],
   "source": [
    "from sklearn.model_selection import train_test_split\n",
    "from tqdm import tqdm\n",
    "import pandas as pd\n",
    "import numpy as np\n",
    "import json\n",
    "import os\n",
    "import sklearn\n",
    "import sklearn.neighbors\n",
    "import warnings\n",
    "from pathlib import Path\n",
    "warnings.filterwarnings('ignore')\n",
    "from sklearn.preprocessing import LabelEncoder\n",
    "from pandas.api.types import CategoricalDtype\n",
    "from operator import itemgetter\n",
    "\n",
    "# constants\n",
    "RAW_DATA_PATH = Path('raw_data/')\n",
    "DATAFRAME_PATH = Path('dataframes/')\n",
    "TOTAL_TRACKS = 50\n",
    "NUM_WITHHELD = 25\n",
    "SELECTED_TRACK_FEATURES = ['danceability', 'energy', 'key', 'loudness',\n",
    "                     'speechiness', 'acousticness', 'instrumentalness',\n",
    "                     'liveness', 'valence', 'tempo']"
   ]
  },
  {
   "cell_type": "code",
   "execution_count": 476,
   "metadata": {},
   "outputs": [],
   "source": [
    "tracks_features_df = pd.read_hdf(DATAFRAME_PATH / 'tracks.h5', 'tracks')\n",
    "cat_type = CategoricalDtype(categories=tracks_features_df.track_uri, ordered=True)\n",
    "tracks_features_df.track_uri = tracks_features_df.track_uri.astype(cat_type)\n",
    "tracks_features_df = tracks_features_df.rename(columns={'track_uri':'tid'})\n",
    "tracks_features_df = tracks_features_df[['tid',*SELECTED_TRACK_FEATURES]].sort_values('tid').reset_index(drop=True)"
   ]
  },
  {
   "cell_type": "code",
   "execution_count": 517,
   "metadata": {
    "scrolled": true
   },
   "outputs": [
    {
     "name": "stderr",
     "output_type": "stream",
     "text": [
      "100%|██████████████████████████████████████████████████████████████████████████████████| 11/11 [00:03<00:00,  2.91it/s]\n"
     ]
    }
   ],
   "source": [
    "def make_playlist_dfs(path):\n",
    "    playlists = []\n",
    "    playlist_tracks = []\n",
    "    for file in tqdm(os.listdir(path)):\n",
    "        if not file.endswith(\".json\"):\n",
    "            continue\n",
    "        with open(path/file) as f:\n",
    "            js_slice = json.load(f)\n",
    "            for playlist in js_slice['playlists']:\n",
    "                if playlist['num_tracks'] > TOTAL_TRACKS:\n",
    "                    sorted_tracks = sorted(playlist['tracks'], key=itemgetter('pos')) \n",
    "                    for track in sorted_tracks[:TOTAL_TRACKS]:\n",
    "                        yield track['track_uri'], playlist['pid'], track['pos']\n",
    "\n",
    "playlist_tracks_df = pd.DataFrame(make_playlist_dfs(RAW_DATA_PATH),columns=['tid','pid','pos'])\n",
    "playlist_tracks_df.tid = playlist_tracks_df.tid.astype(cat_type)"
   ]
  },
  {
   "cell_type": "code",
   "execution_count": 521,
   "metadata": {},
   "outputs": [],
   "source": [
    "all_playlist_ids = playlist_tracks_df.pid.unique()\n",
    "train_pids, test_pids = train_test_split(all_playlist_ids,random_state=0, test_size=0.20)\n",
    "\n",
    "# 1. Get tracks that are only from training playlists\n",
    "# 2. Get the track features for each of these training tracks\n",
    "# 3. Make test set only include tracks from training set\n",
    "train_playlist_tracks_df = playlist_tracks_df.query('pid in @train_pids')\n",
    "train_tracks_features_df = tracks_features_df.query('tid in @train_playlist_tracks_df.tid')\n",
    "test_playlist_tracks_df = playlist_tracks_df.query('pid in @test_pids and tid in @train_playlist_tracks_df.tid')\n",
    "\n",
    "# 1. Get the first NUM_WITHHELD tracks for each playlist in test\n",
    "# 2. Get the track features for these with held tracks\n",
    "# 3. Compute mean features by grouping incomplete playlists\n",
    "test_playlist_tracks_incomplete_df = test_playlist_tracks_df.groupby('pid').head(NUM_WITHHELD)\n",
    "test_tracks_incomplete_features_df = test_playlist_tracks_incomplete_df.merge(tracks_features_df,how='inner',on='tid')\n",
    "test_playlist_incomplete_features = test_tracks_incomplete_features_df[['pid',*SELECTED_TRACK_FEATURES]].groupby('pid',as_index=False).mean()"
   ]
  },
  {
   "cell_type": "code",
   "execution_count": 526,
   "metadata": {},
   "outputs": [],
   "source": [
    "# KNN model that will find 25 nearest neighbors to the current playlist\n",
    "knn_clf = sklearn.neighbors.NearestNeighbors(n_neighbors=NUM_WITHHELD)\n",
    "knn_clf.fit(train_tracks_features_df[SELECTED_TRACK_FEATURES])\n",
    "distances, indices = knn_clf.kneighbors(test_playlist_incomplete_features[SELECTED_TRACK_FEATURES])"
   ]
  },
  {
   "cell_type": "code",
   "execution_count": 539,
   "metadata": {},
   "outputs": [
    {
     "data": {
      "text/html": [
       "<div>\n",
       "<style scoped>\n",
       "    .dataframe tbody tr th:only-of-type {\n",
       "        vertical-align: middle;\n",
       "    }\n",
       "\n",
       "    .dataframe tbody tr th {\n",
       "        vertical-align: top;\n",
       "    }\n",
       "\n",
       "    .dataframe thead th {\n",
       "        text-align: right;\n",
       "    }\n",
       "</style>\n",
       "<table border=\"1\" class=\"dataframe\">\n",
       "  <thead>\n",
       "    <tr style=\"text-align: right;\">\n",
       "      <th></th>\n",
       "      <th>tid</th>\n",
       "      <th>pid</th>\n",
       "      <th>pos</th>\n",
       "    </tr>\n",
       "  </thead>\n",
       "  <tbody>\n",
       "    <tr>\n",
       "      <th>0</th>\n",
       "      <td>spotify:track:1mnPNAxWN8MvWYsjHWpnnc</td>\n",
       "      <td>17</td>\n",
       "      <td>0</td>\n",
       "    </tr>\n",
       "    <tr>\n",
       "      <th>1</th>\n",
       "      <td>spotify:track:0FZ7yrTAHEPBtVhxgpsgYf</td>\n",
       "      <td>17</td>\n",
       "      <td>1</td>\n",
       "    </tr>\n",
       "    <tr>\n",
       "      <th>2</th>\n",
       "      <td>spotify:track:2UAWCPSBKXi33Q0YMoDRRS</td>\n",
       "      <td>17</td>\n",
       "      <td>2</td>\n",
       "    </tr>\n",
       "    <tr>\n",
       "      <th>3</th>\n",
       "      <td>spotify:track:5dyUA8LLCsPPD9xTtE4XKz</td>\n",
       "      <td>17</td>\n",
       "      <td>3</td>\n",
       "    </tr>\n",
       "    <tr>\n",
       "      <th>4</th>\n",
       "      <td>spotify:track:7vFoFDWqTX0mHzLfrF1Cfy</td>\n",
       "      <td>17</td>\n",
       "      <td>4</td>\n",
       "    </tr>\n",
       "    <tr>\n",
       "      <th>...</th>\n",
       "      <td>...</td>\n",
       "      <td>...</td>\n",
       "      <td>...</td>\n",
       "    </tr>\n",
       "    <tr>\n",
       "      <th>24270</th>\n",
       "      <td>spotify:track:4MbS4oNEbGOaiCi1rfZ2Pw</td>\n",
       "      <td>9993</td>\n",
       "      <td>20</td>\n",
       "    </tr>\n",
       "    <tr>\n",
       "      <th>24271</th>\n",
       "      <td>spotify:track:2TQrgzmsmQhniZjHYO9Uzk</td>\n",
       "      <td>9993</td>\n",
       "      <td>21</td>\n",
       "    </tr>\n",
       "    <tr>\n",
       "      <th>24272</th>\n",
       "      <td>spotify:track:0dqvwSAycKNbTsn19A8RMF</td>\n",
       "      <td>9993</td>\n",
       "      <td>22</td>\n",
       "    </tr>\n",
       "    <tr>\n",
       "      <th>24273</th>\n",
       "      <td>spotify:track:2Guz1b911CbpG8L92cnglI</td>\n",
       "      <td>9993</td>\n",
       "      <td>23</td>\n",
       "    </tr>\n",
       "    <tr>\n",
       "      <th>24274</th>\n",
       "      <td>spotify:track:5jROdl6MhcmP3O7h2sVgtw</td>\n",
       "      <td>9993</td>\n",
       "      <td>24</td>\n",
       "    </tr>\n",
       "  </tbody>\n",
       "</table>\n",
       "<p>24275 rows × 3 columns</p>\n",
       "</div>"
      ],
      "text/plain": [
       "                                        tid   pid  pos\n",
       "0      spotify:track:1mnPNAxWN8MvWYsjHWpnnc    17    0\n",
       "1      spotify:track:0FZ7yrTAHEPBtVhxgpsgYf    17    1\n",
       "2      spotify:track:2UAWCPSBKXi33Q0YMoDRRS    17    2\n",
       "3      spotify:track:5dyUA8LLCsPPD9xTtE4XKz    17    3\n",
       "4      spotify:track:7vFoFDWqTX0mHzLfrF1Cfy    17    4\n",
       "...                                     ...   ...  ...\n",
       "24270  spotify:track:4MbS4oNEbGOaiCi1rfZ2Pw  9993   20\n",
       "24271  spotify:track:2TQrgzmsmQhniZjHYO9Uzk  9993   21\n",
       "24272  spotify:track:0dqvwSAycKNbTsn19A8RMF  9993   22\n",
       "24273  spotify:track:2Guz1b911CbpG8L92cnglI  9993   23\n",
       "24274  spotify:track:5jROdl6MhcmP3O7h2sVgtw  9993   24\n",
       "\n",
       "[24275 rows x 3 columns]"
      ]
     },
     "execution_count": 539,
     "metadata": {},
     "output_type": "execute_result"
    }
   ],
   "source": [
    "# for each test playlist, get the 25 next nearest predicted tracks and add them to a table for evaluation\n",
    "def get_predicted_playlist_tracks():\n",
    "    for index, row in test_playlist_incomplete_features.iterrows():\n",
    "            predicted_tracks = train_tracks_features_df['tid'].iloc[indices[index]]\n",
    "            for pos, predicted_track in enumerate(predicted_tracks):\n",
    "                yield predicted_track, int(row['pid']),pos\n",
    "\n",
    "test_predicted_playlist_tracks_df = pd.DataFrame(get_predicted_playlist_tracks(), columns =['tid', 'pid', 'pos'])\n",
    "test_predicted_playlist_tracks_df"
   ]
  }
 ],
 "metadata": {
  "kernelspec": {
   "display_name": "Python 3",
   "language": "python",
   "name": "python3"
  },
  "language_info": {
   "codemirror_mode": {
    "name": "ipython",
    "version": 3
   },
   "file_extension": ".py",
   "mimetype": "text/x-python",
   "name": "python",
   "nbconvert_exporter": "python",
   "pygments_lexer": "ipython3",
   "version": "3.8.5"
  }
 },
 "nbformat": 4,
 "nbformat_minor": 1
}
