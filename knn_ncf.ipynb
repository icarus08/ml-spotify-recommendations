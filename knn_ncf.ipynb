{
 "cells": [
  {
   "cell_type": "code",
   "execution_count": 1,
   "metadata": {},
   "outputs": [],
   "source": [
    "from sklearn.model_selection import train_test_split\n",
    "from tqdm import tqdm\n",
    "import pandas as pd\n",
    "import numpy as np\n",
    "import json\n",
    "import os\n",
    "import sklearn\n",
    "import sklearn.neighbors\n",
    "from pathlib import Path\n",
    "from pandas.api.types import CategoricalDtype\n",
    "from operator import itemgetter\n",
    "import matplotlib.pyplot as plt\n",
    "\n",
    "from keras import backend as K\n",
    "from keras import initializers\n",
    "from keras.models import Sequential, Model, load_model, save_model\n",
    "from keras.layers.core import Dense, Lambda, Activation\n",
    "from keras.layers import Embedding, Input, Dense, Multiply, Reshape, Flatten, Concatenate\n",
    "from keras.optimizers import Adam\n",
    "from keras.regularizers import l2\n",
    "\n",
    "import warnings\n",
    "warnings.filterwarnings('ignore')\n",
    "\n",
    "# constants\n",
    "RAW_DATA_PATH = Path('raw_data/')\n",
    "DATAFRAME_PATH = Path('dataframes/')\n",
    "MODEL_PATH = Path('model/ncf_model.h5')\n",
    "TOTAL_TRACKS = 50\n",
    "NUM_WITHHELD = 25\n",
    "N_NEIGHBORS = 25\n",
    "SELECTED_TRACK_FEATURES = ['danceability', 'energy', 'key', 'loudness',\n",
    "                     'speechiness', 'acousticness', 'instrumentalness',\n",
    "                     'liveness', 'valence', 'tempo']"
   ]
  },
  {
   "cell_type": "code",
   "execution_count": 2,
   "metadata": {},
   "outputs": [
    {
     "data": {
      "text/html": [
       "<div>\n",
       "<style scoped>\n",
       "    .dataframe tbody tr th:only-of-type {\n",
       "        vertical-align: middle;\n",
       "    }\n",
       "\n",
       "    .dataframe tbody tr th {\n",
       "        vertical-align: top;\n",
       "    }\n",
       "\n",
       "    .dataframe thead th {\n",
       "        text-align: right;\n",
       "    }\n",
       "</style>\n",
       "<table border=\"1\" class=\"dataframe\">\n",
       "  <thead>\n",
       "    <tr style=\"text-align: right;\">\n",
       "      <th></th>\n",
       "      <th>tid</th>\n",
       "      <th>danceability</th>\n",
       "      <th>energy</th>\n",
       "      <th>key</th>\n",
       "      <th>loudness</th>\n",
       "      <th>speechiness</th>\n",
       "      <th>acousticness</th>\n",
       "      <th>instrumentalness</th>\n",
       "      <th>liveness</th>\n",
       "      <th>valence</th>\n",
       "      <th>tempo</th>\n",
       "    </tr>\n",
       "  </thead>\n",
       "  <tbody>\n",
       "    <tr>\n",
       "      <th>0</th>\n",
       "      <td>spotify:track:3uvsVUrAaGQJCTEUR1S3Sx</td>\n",
       "      <td>0.523</td>\n",
       "      <td>0.422</td>\n",
       "      <td>3</td>\n",
       "      <td>-10.385</td>\n",
       "      <td>0.0270</td>\n",
       "      <td>0.78300</td>\n",
       "      <td>0.005140</td>\n",
       "      <td>0.0898</td>\n",
       "      <td>0.145</td>\n",
       "      <td>129.876</td>\n",
       "    </tr>\n",
       "    <tr>\n",
       "      <th>1</th>\n",
       "      <td>spotify:track:0heE5tAAaDQmnGhVDImPl2</td>\n",
       "      <td>0.493</td>\n",
       "      <td>0.594</td>\n",
       "      <td>8</td>\n",
       "      <td>-4.404</td>\n",
       "      <td>0.0378</td>\n",
       "      <td>0.25600</td>\n",
       "      <td>0.000000</td>\n",
       "      <td>0.0759</td>\n",
       "      <td>0.304</td>\n",
       "      <td>123.751</td>\n",
       "    </tr>\n",
       "    <tr>\n",
       "      <th>2</th>\n",
       "      <td>spotify:track:3omXshBamrREltcf24gYDC</td>\n",
       "      <td>0.468</td>\n",
       "      <td>0.692</td>\n",
       "      <td>2</td>\n",
       "      <td>-4.015</td>\n",
       "      <td>0.0295</td>\n",
       "      <td>0.02020</td>\n",
       "      <td>0.000002</td>\n",
       "      <td>0.5230</td>\n",
       "      <td>0.561</td>\n",
       "      <td>78.009</td>\n",
       "    </tr>\n",
       "    <tr>\n",
       "      <th>3</th>\n",
       "      <td>spotify:track:6TYWE19e35N7Bn5heHwyY6</td>\n",
       "      <td>0.553</td>\n",
       "      <td>0.564</td>\n",
       "      <td>9</td>\n",
       "      <td>-7.072</td>\n",
       "      <td>0.0418</td>\n",
       "      <td>0.03900</td>\n",
       "      <td>0.000000</td>\n",
       "      <td>0.3180</td>\n",
       "      <td>0.310</td>\n",
       "      <td>149.953</td>\n",
       "    </tr>\n",
       "    <tr>\n",
       "      <th>4</th>\n",
       "      <td>spotify:track:1xznGGDReH1oQq0xzbwXa3</td>\n",
       "      <td>0.791</td>\n",
       "      <td>0.619</td>\n",
       "      <td>1</td>\n",
       "      <td>-5.886</td>\n",
       "      <td>0.0532</td>\n",
       "      <td>0.00784</td>\n",
       "      <td>0.004230</td>\n",
       "      <td>0.3510</td>\n",
       "      <td>0.371</td>\n",
       "      <td>103.989</td>\n",
       "    </tr>\n",
       "  </tbody>\n",
       "</table>\n",
       "</div>"
      ],
      "text/plain": [
       "                                    tid  danceability  energy  key  loudness  \\\n",
       "0  spotify:track:3uvsVUrAaGQJCTEUR1S3Sx         0.523   0.422    3   -10.385   \n",
       "1  spotify:track:0heE5tAAaDQmnGhVDImPl2         0.493   0.594    8    -4.404   \n",
       "2  spotify:track:3omXshBamrREltcf24gYDC         0.468   0.692    2    -4.015   \n",
       "3  spotify:track:6TYWE19e35N7Bn5heHwyY6         0.553   0.564    9    -7.072   \n",
       "4  spotify:track:1xznGGDReH1oQq0xzbwXa3         0.791   0.619    1    -5.886   \n",
       "\n",
       "   speechiness  acousticness  instrumentalness  liveness  valence    tempo  \n",
       "0       0.0270       0.78300          0.005140    0.0898    0.145  129.876  \n",
       "1       0.0378       0.25600          0.000000    0.0759    0.304  123.751  \n",
       "2       0.0295       0.02020          0.000002    0.5230    0.561   78.009  \n",
       "3       0.0418       0.03900          0.000000    0.3180    0.310  149.953  \n",
       "4       0.0532       0.00784          0.004230    0.3510    0.371  103.989  "
      ]
     },
     "execution_count": 2,
     "metadata": {},
     "output_type": "execute_result"
    }
   ],
   "source": [
    "# read tracks.h5 which contains tracks with features like danceability, loudness ,... etc\n",
    "# set type of track_uri to category, to convert string to an int unique id\n",
    "# rename track_uri to tid and sort values based on tid\n",
    "tracks_features_df = pd.read_hdf(DATAFRAME_PATH / 'tracks.h5', 'tracks')\n",
    "cat_type = CategoricalDtype(categories=tracks_features_df.track_uri, ordered=True)\n",
    "tracks_features_df.track_uri = tracks_features_df.track_uri.astype(cat_type)\n",
    "tracks_features_df = tracks_features_df.rename(columns={'track_uri':'tid'})\n",
    "tracks_features_df = tracks_features_df[['tid',*SELECTED_TRACK_FEATURES]].sort_values('tid').reset_index(drop=True)\n",
    "tracks_features_df.head(5)"
   ]
  },
  {
   "cell_type": "code",
   "execution_count": 3,
   "metadata": {
    "scrolled": true
   },
   "outputs": [
    {
     "name": "stderr",
     "output_type": "stream",
     "text": [
      "100%|██████████| 12/12 [00:02<00:00,  5.06it/s]\n"
     ]
    },
    {
     "data": {
      "text/html": [
       "<div>\n",
       "<style scoped>\n",
       "    .dataframe tbody tr th:only-of-type {\n",
       "        vertical-align: middle;\n",
       "    }\n",
       "\n",
       "    .dataframe tbody tr th {\n",
       "        vertical-align: top;\n",
       "    }\n",
       "\n",
       "    .dataframe thead th {\n",
       "        text-align: right;\n",
       "    }\n",
       "</style>\n",
       "<table border=\"1\" class=\"dataframe\">\n",
       "  <thead>\n",
       "    <tr style=\"text-align: right;\">\n",
       "      <th></th>\n",
       "      <th>tid</th>\n",
       "      <th>pid</th>\n",
       "      <th>pos</th>\n",
       "    </tr>\n",
       "  </thead>\n",
       "  <tbody>\n",
       "    <tr>\n",
       "      <th>0</th>\n",
       "      <td>spotify:track:3uvsVUrAaGQJCTEUR1S3Sx</td>\n",
       "      <td>7000</td>\n",
       "      <td>0</td>\n",
       "    </tr>\n",
       "    <tr>\n",
       "      <th>1</th>\n",
       "      <td>spotify:track:0heE5tAAaDQmnGhVDImPl2</td>\n",
       "      <td>7000</td>\n",
       "      <td>1</td>\n",
       "    </tr>\n",
       "    <tr>\n",
       "      <th>2</th>\n",
       "      <td>spotify:track:3omXshBamrREltcf24gYDC</td>\n",
       "      <td>7000</td>\n",
       "      <td>2</td>\n",
       "    </tr>\n",
       "    <tr>\n",
       "      <th>3</th>\n",
       "      <td>spotify:track:6TYWE19e35N7Bn5heHwyY6</td>\n",
       "      <td>7000</td>\n",
       "      <td>3</td>\n",
       "    </tr>\n",
       "    <tr>\n",
       "      <th>4</th>\n",
       "      <td>spotify:track:1xznGGDReH1oQq0xzbwXa3</td>\n",
       "      <td>7000</td>\n",
       "      <td>4</td>\n",
       "    </tr>\n",
       "  </tbody>\n",
       "</table>\n",
       "</div>"
      ],
      "text/plain": [
       "                                    tid   pid  pos\n",
       "0  spotify:track:3uvsVUrAaGQJCTEUR1S3Sx  7000    0\n",
       "1  spotify:track:0heE5tAAaDQmnGhVDImPl2  7000    1\n",
       "2  spotify:track:3omXshBamrREltcf24gYDC  7000    2\n",
       "3  spotify:track:6TYWE19e35N7Bn5heHwyY6  7000    3\n",
       "4  spotify:track:1xznGGDReH1oQq0xzbwXa3  7000    4"
      ]
     },
     "execution_count": 3,
     "metadata": {},
     "output_type": "execute_result"
    }
   ],
   "source": [
    "# read 10000 playlists from the official spoitfy 1M playlists\n",
    "# for each playlist, get the tracks and their positions\n",
    "def make_playlist_dfs(path):\n",
    "    playlists = []\n",
    "    playlist_tracks = []\n",
    "    for file in tqdm(os.listdir(path)):\n",
    "        if not file.endswith(\".json\"):\n",
    "            continue\n",
    "        with open(path/file) as f:\n",
    "            js_slice = json.load(f)\n",
    "            for playlist in js_slice['playlists']:\n",
    "                if playlist['num_tracks'] > TOTAL_TRACKS:\n",
    "                    sorted_tracks = sorted(playlist['tracks'], key=itemgetter('pos')) \n",
    "                    for track in sorted_tracks[:TOTAL_TRACKS]:\n",
    "                        yield track['track_uri'], playlist['pid'], track['pos']\n",
    "\n",
    "playlist_tracks_df = pd.DataFrame(make_playlist_dfs(RAW_DATA_PATH),columns=['tid','pid','pos'])\n",
    "playlist_tracks_df['tid'] = playlist_tracks_df.tid.astype(cat_type)\n",
    "playlist_tracks_df.head(5)"
   ]
  },
  {
   "cell_type": "code",
   "execution_count": 4,
   "metadata": {},
   "outputs": [
    {
     "name": "stdout",
     "output_type": "stream",
     "text": [
      "total playlists: 4907\n",
      "train playlists: 3925\n",
      "test playlists: 982\n",
      "\n",
      "total tracks in train playlists: 196250\n",
      "unique tracks in train playlists: 71782\n",
      "\n",
      "total tracks in test playlists: 36534\n",
      "total tracks in incomplete test playlists: 22919\n",
      "total incomplete test playlists: 975\n"
     ]
    }
   ],
   "source": [
    "all_playlist_ids = playlist_tracks_df.pid.unique()\n",
    "train_pids, test_pids = train_test_split(all_playlist_ids,random_state=0, test_size=0.20)\n",
    "print(f'total playlists: {len(all_playlist_ids)}')\n",
    "print(f'train playlists: {len(train_pids)}')\n",
    "print(f'test playlists: {len(test_pids)}')\n",
    "# 1. Get tracks that are only from the training playlists\n",
    "# 2. Get the track features(danceability,loudness) for each of these training tracks\n",
    "# 3. Make a test set that only includes tracks from the training set\n",
    "train_playlist_tracks_df = playlist_tracks_df.query('pid in @train_pids')\n",
    "\n",
    "train_tracks_features_df = tracks_features_df.query('tid in @train_playlist_tracks_df.tid')\n",
    "test_playlist_tracks_df = playlist_tracks_df.query('pid in @test_pids and tid in @train_playlist_tracks_df.tid')\n",
    "print()\n",
    "print(f'total tracks in train playlists: {len(train_playlist_tracks_df)}')\n",
    "print(f'unique tracks in train playlists: {len(train_tracks_features_df)}')\n",
    "\n",
    "\n",
    "# 1. Get the first NUM_WITHHELD tracks for each playlist in test\n",
    "# 2. Get the track features for these with held tracks\n",
    "# 3. Compute mean features by grouping the tracks from incomplete playlists\n",
    "test_playlist_tracks_incomplete_df = test_playlist_tracks_df.groupby('pid').head(NUM_WITHHELD)\n",
    "test_tracks_incomplete_features_df = test_playlist_tracks_incomplete_df.merge(tracks_features_df,how='inner',on='tid')\n",
    "test_playlist_incomplete_features = test_tracks_incomplete_features_df[['pid',*SELECTED_TRACK_FEATURES]].groupby('pid',as_index=False).mean()\n",
    "print()\n",
    "print(f'total tracks in test playlists: {len(test_playlist_tracks_df)}')\n",
    "print(f'total tracks in incomplete test playlists: {len(test_playlist_tracks_incomplete_df)}')\n",
    "print(f'total incomplete test playlists: {len(test_playlist_incomplete_features)}')"
   ]
  },
  {
   "cell_type": "code",
   "execution_count": 5,
   "metadata": {},
   "outputs": [],
   "source": [
    "# KNN model that will find 25 nearest neighbors to the current playlist\n",
    "knn_clf = sklearn.neighbors.NearestNeighbors(n_neighbors=NUM_WITHHELD)\n",
    "knn_clf.fit(train_tracks_features_df[SELECTED_TRACK_FEATURES])\n",
    "distances, indices = knn_clf.kneighbors(test_playlist_incomplete_features[SELECTED_TRACK_FEATURES])"
   ]
  },
  {
   "cell_type": "code",
   "execution_count": 6,
   "metadata": {},
   "outputs": [],
   "source": [
    "# for each test playlist, get the 25 next nearest predicted tracks and add them to a table for evaluation\n",
    "def get_predicted_playlist_tracks():\n",
    "    for index, row in test_playlist_incomplete_features.iterrows():\n",
    "            predicted_tracks = train_tracks_features_df['tid'].iloc[indices[index]]\n",
    "            for pos, predicted_track in enumerate(predicted_tracks):\n",
    "                yield predicted_track, int(row['pid']),pos\n",
    "\n",
    "test_predicted_playlist_tracks_df = pd.DataFrame(get_predicted_playlist_tracks(), columns =['tid', 'pid', 'pos'])\n",
    "test_predicted_playlist_tracks_df.tid = test_predicted_playlist_tracks_df.tid.astype(cat_type)"
   ]
  },
  {
   "cell_type": "code",
   "execution_count": 7,
   "metadata": {},
   "outputs": [],
   "source": [
    "class Evaluator:\n",
    "    def __init__(self,predicted_playlist_tracks,true_playlist_tracks):\n",
    "        self.predicted_playlist_tracks = predicted_playlist_tracks\n",
    "        self.true_playlist_tracks = true_playlist_tracks    \n",
    "\n",
    "    def evaluate(self):\n",
    "        predicted_playlist_tracks = self.predicted_playlist_tracks\n",
    "        true_playlist_tracks = self.true_playlist_tracks\n",
    "        \n",
    "        r_precision_list = []\n",
    "        ndcg_list = []\n",
    "        song_clicks_list = []\n",
    "        \n",
    "        pid_list = true_playlist_tracks.pid.unique()\n",
    "        \n",
    "        def get_metrics():\n",
    "            for pid in tqdm(pid_list):\n",
    "                predictions = predicted_playlist_tracks.query('pid in @pid_list').tid\n",
    "                truth = true_playlist_tracks.query('pid in @pid_list').tid\n",
    "                yield (pid , self.r_precision(predictions,truth),self.ndcg(predictions,truth),self.song_clicks(predictions,truth))\n",
    "        metrics = pd.DataFrame(get_metrics(),columns=['pid','r_precision','ndcg','songs_click'])\n",
    "        \n",
    "        return metrics[['r_precision','ndcg','songs_click']].mean()\n",
    "         \n",
    "    def r_precision(self,predictions,truth,n_tracks = N_NEIGHBORS):\n",
    "        truth_set = set(truth)\n",
    "        prediction_set = set(predictions[:n_tracks])\n",
    "        intersect = prediction_set.intersection(truth_set)\n",
    "        return float(len(intersect)) / len(truth_set)\n",
    "            \n",
    "    def ndcg(self,predictions,truth,n_tracks = N_NEIGHBORS):\n",
    "        predictions = list(predictions[:n_tracks])\n",
    "        truth = list(truth)   \n",
    "        score = [float(element in truth) for element in predictions]    \n",
    "        dcg  = np.sum(score / np.log2(1 + np.arange(1, len(score) + 1)))     \n",
    "        ones = np.ones([1,len(truth)])\n",
    "        idcg = np.sum(ones / np.log2(1 + np.arange(1, len(truth) + 1)))\n",
    "        return (dcg / idcg)\n",
    "    \n",
    "    def song_clicks(self,predictions,truth,n_tracks = N_NEIGHBORS):\n",
    "        predictions = predictions[:n_tracks]\n",
    "        i = set(predictions).intersection(set(truth))\n",
    "        for index, t in enumerate(predictions):\n",
    "            for track in i:\n",
    "                if t == track:\n",
    "                    return float(int(index / 10))              \n",
    "        return float(n_tracks / 10.0 + 1)"
   ]
  },
  {
   "cell_type": "code",
   "execution_count": 8,
   "metadata": {},
   "outputs": [
    {
     "name": "stderr",
     "output_type": "stream",
     "text": [
      "100%|██████████| 975/975 [00:36<00:00, 26.89it/s]\n"
     ]
    },
    {
     "data": {
      "text/plain": [
       "r_precision    0.000389\n",
       "ndcg           0.000985\n",
       "songs_click    0.000000\n",
       "dtype: float64"
      ]
     },
     "execution_count": 8,
     "metadata": {},
     "output_type": "execute_result"
    }
   ],
   "source": [
    "model_eval = Evaluator(test_predicted_playlist_tracks_df,test_playlist_tracks_df)\n",
    "model_eval.evaluate()"
   ]
  },
  {
   "cell_type": "markdown",
   "metadata": {},
   "source": [
    "## Neural Network (NeuMF)"
   ]
  },
  {
   "cell_type": "code",
   "execution_count": 9,
   "metadata": {},
   "outputs": [],
   "source": [
    "from scipy.sparse import dok_matrix"
   ]
  },
  {
   "cell_type": "code",
   "execution_count": 10,
   "metadata": {},
   "outputs": [
    {
     "name": "stderr",
     "output_type": "stream",
     "text": [
      "219169it [00:02, 74087.83it/s]\n"
     ]
    }
   ],
   "source": [
    "total_playlist_tracks_df = train_playlist_tracks_df.append(test_playlist_tracks_incomplete_df)\n",
    "unique_tracks = total_playlist_tracks_df['tid'].unique()\n",
    "total_cat_type = CategoricalDtype(categories=unique_tracks, ordered=True)\n",
    "total_playlist_tracks_df['tid'] = total_playlist_tracks_df.tid.astype(total_cat_type)\n",
    "total_playlist_tracks_df['cat_codes'] = total_playlist_tracks_df['tid'].cat.codes\n",
    "\n",
    "dok_mat_n_rows = total_playlist_tracks_df.shape[0]\n",
    "dok_mat_n_cols = len(unique_tracks)\n",
    "\n",
    "dok_mat_rows = total_playlist_tracks_df['pid']\n",
    "dok_mat_cols = total_playlist_tracks_df['cat_codes']\n",
    "\n",
    "# Make a dictionary key sparse matrix\n",
    "dok_mat = dok_matrix((dok_mat_n_rows, dok_mat_n_cols))\n",
    "\n",
    "# TODO vectorize later if possible\n",
    "for (pid, cat_code) in tqdm(zip(dok_mat_rows, dok_mat_cols)):\n",
    "    dok_mat[pid, cat_code] = 1.0"
   ]
  },
  {
   "cell_type": "code",
   "execution_count": 11,
   "metadata": {},
   "outputs": [],
   "source": [
    "# Hyperparameters\n",
    "embedding_dim = 8\n",
    "num_epochs = 2\n",
    "learning_rate = 0.001\n",
    "batch_size = 200\n",
    "rand_negative_fill_in = 4\n",
    "layer_sizes = [64, 32, 16, 8]"
   ]
  },
  {
   "cell_type": "code",
   "execution_count": 12,
   "metadata": {},
   "outputs": [],
   "source": [
    "def model_factory(n_playlists, n_tracks):\n",
    "    pl_input = Input(shape=(1,), dtype='int32', name='pl_input')\n",
    "    tr_input = Input(shape=(1,), dtype='int32', name='tr_input')\n",
    "    \n",
    "    pl_mf_embedding = Embedding(input_dim=n_playlists, output_dim=embedding_dim,\n",
    "                        name='pl_mf_embedding',\n",
    "                        embeddings_initializer='RandomNormal',\n",
    "                        embeddings_regularizer=l2(0), input_length=1)\n",
    "    tr_mf_embedding = Embedding(input_dim=n_tracks, output_dim=embedding_dim,\n",
    "                        name='tr_mf_embedding',\n",
    "                        embeddings_initializer='RandomNormal',\n",
    "                        embeddings_regularizer=l2(0), input_length=1)\n",
    "    pl_mlp_embedding = Embedding(input_dim=n_playlists, output_dim=int(layer_sizes[0]/2),\n",
    "                         name='pl_mlp_embedding',\n",
    "                         embeddings_initializer='RandomNormal',\n",
    "                         embeddings_regularizer=l2(0), \n",
    "                         input_length=1)\n",
    "    tr_mlp_embedding = Embedding(input_dim=n_tracks, output_dim=int(layer_sizes[0]/2),\n",
    "                         name='tr_mlp_embedding',\n",
    "                         embeddings_initializer='RandomNormal',\n",
    "                         embeddings_regularizer=l2(0), \n",
    "                         input_length=1)\n",
    "    \n",
    "    pl_mf_hidden = Flatten()(pl_mf_embedding(pl_input))\n",
    "    tr_mf_hidden = Flatten()(tr_mf_embedding(tr_input))\n",
    "    \n",
    "    concat_mf_hidden = Multiply()([pl_mf_hidden, tr_mf_hidden])\n",
    "    \n",
    "    pl_mlp_hidden = Flatten()(pl_mlp_embedding(pl_input))\n",
    "    tr_mlp_hidden = Flatten()(tr_mlp_embedding(tr_input))\n",
    "    \n",
    "    concat_mlp_hidden = Concatenate()([pl_mlp_hidden, tr_mlp_hidden])\n",
    "    \n",
    "    mlp = concat_mlp_hidden\n",
    "    \n",
    "    for i in range(1,len(layer_sizes)):\n",
    "        layer = Dense(layer_sizes[i],\n",
    "                      activity_regularizer=l2(0),\n",
    "                      activation='relu',\n",
    "                      name='layer%d' % i)\n",
    "        mlp = layer(mlp)\n",
    "\n",
    "    concat_final = Concatenate()([concat_mf_hidden, mlp])\n",
    "    final_dense = Dense(1, activation='sigmoid', \n",
    "                   kernel_initializer='lecun_uniform',name='result')\n",
    "\n",
    "    model = Model(inputs=[pl_input,tr_input], outputs=final_dense(concat_final))\n",
    "\n",
    "    return model"
   ]
  },
  {
   "cell_type": "code",
   "execution_count": 13,
   "metadata": {},
   "outputs": [],
   "source": [
    "def make_train_data():\n",
    "    pl_input, tr_input, recs = [], [], []\n",
    "    for (pl, tr) in dok_mat.keys():\n",
    "        pl_input.append(pl)\n",
    "        tr_input.append(tr)\n",
    "        recs.append(1.0)\n",
    "        for t in range(rand_negative_fill_in):\n",
    "            rand_num = np.random.randint(dok_mat.shape[1])\n",
    "            while(pl, rand_num) in dok_mat.keys():\n",
    "                rand_num = np.random.randint(dok_mat.shape[1])\n",
    "            pl_input.append(pl)\n",
    "            tr_input.append(rand_num)\n",
    "            recs.append(1.0)\n",
    "    return pl_input, tr_input, recs\n",
    "\n",
    "model = model_factory(dok_mat.shape[0], dok_mat.shape[1])\n",
    "model.compile(optimizer=Adam(lr=learning_rate), loss='binary_crossentropy', metrics=['accuracy'])"
   ]
  },
  {
   "cell_type": "code",
   "execution_count": 14,
   "metadata": {},
   "outputs": [
    {
     "name": "stdout",
     "output_type": "stream",
     "text": [
      "Epoch 1/2\n",
      "5436/5436 [==============================] - 227s 42ms/step - loss: 0.0427 - accuracy: 0.9997\n",
      "Epoch 2/2\n",
      "5436/5436 [==============================] - 219s 40ms/step - loss: 2.5653e-07 - accuracy: 1.0000\n"
     ]
    }
   ],
   "source": [
    "playlist_input, track_inputs, recs = make_train_data()\n",
    "# training\n",
    "hist = model.fit([np.array(playlist_input), np.array(track_inputs)], np.array(recs), \n",
    "                 batch_size=batch_size, epochs=num_epochs, verbose=1, shuffle=True)\n",
    "model.save(MODEL_PATH, overwrite=True)"
   ]
  },
  {
   "cell_type": "code",
   "execution_count": 15,
   "metadata": {},
   "outputs": [],
   "source": [
    "model = load_model(MODEL_PATH)"
   ]
  },
  {
   "cell_type": "markdown",
   "metadata": {},
   "source": [
    "## Make recommendations using the NeuMF model"
   ]
  },
  {
   "cell_type": "code",
   "execution_count": 16,
   "metadata": {},
   "outputs": [
    {
     "name": "stdout",
     "output_type": "stream",
     "text": [
      "Fitting a KMeans model with 100 clusters to the embedding weight matrix for playlists\n",
      "other playlists in cluster: 2904\n"
     ]
    }
   ],
   "source": [
    "from sklearn.cluster import KMeans\n",
    "\n",
    "playlist_for_test = np.random.choice(test_playlist_tracks_df['pid'].tolist())\n",
    "ground_truth = test_playlist_tracks_df[test_playlist_tracks_df['pid'] == playlist_for_test]\n",
    "\n",
    "pl_mlp_embedding_weights = (next(iter(filter(lambda x: x.name == 'pl_mlp_embedding', model.layers))).get_weights())[0]\n",
    "playlist_embedding_weight_matrix = pl_mlp_embedding_weights\n",
    "chosen_playlist_vector = playlist_embedding_weight_matrix[playlist_for_test,:]\n",
    "\n",
    "print(\"Fitting a KMeans model with 100 clusters to the embedding weight matrix for playlists\")\n",
    "km_model = KMeans(n_clusters=100, random_state=0, verbose=0).fit(playlist_embedding_weight_matrix)\n",
    "\n",
    "chosen_playlist_vector = np.reshape(chosen_playlist_vector, (1,32))\n",
    "playlist_predictor = km_model.predict(chosen_playlist_vector)\n",
    "playlist_labels = km_model.labels_\n",
    "\n",
    "similar_playlists = []\n",
    "for pid, playlist_label in enumerate(playlist_labels):\n",
    "    if playlist_label == playlist_predictor:\n",
    "        similar_playlists.append(pid)\n",
    "print(f'other playlists in cluster: {len(similar_playlists)}')"
   ]
  },
  {
   "cell_type": "code",
   "execution_count": 18,
   "metadata": {},
   "outputs": [
    {
     "name": "stdout",
     "output_type": "stream",
     "text": [
      "other tracks from similar_playlists in cluster: 104483\n",
      "Retrieved predictions from trained model...\n"
     ]
    }
   ],
   "source": [
    "tracks = []\n",
    "for pid in similar_playlists:\n",
    "    tracks += list(total_playlist_tracks_df[total_playlist_tracks_df['pid'] == pid]['cat_codes'])\n",
    "print(f'other tracks from similar_playlists in cluster: {len(tracks)}') \n",
    "\n",
    "pids_pred = np.full(len(tracks), playlist_for_test, dtype='int32')\n",
    "tracks_pred = np.array(tracks, dtype='int32')\n",
    "\n",
    "results = model.predict([pids_pred, tracks_pred], batch_size=100, verbose=0)\n",
    "results = results.tolist()\n",
    "print(\"Retrieved predictions from trained model...\")"
   ]
  },
  {
   "cell_type": "code",
   "execution_count": null,
   "metadata": {},
   "outputs": [],
   "source": [
    "results_df = pd.DataFrame(np.nan, index=range(len(results)), columns=['probability', *list(tracks_features_df.columns)])\n",
    "\n",
    "for i, probability in (enumerate(tqdm(results))):\n",
    "    tid = total_playlist_tracks_df[total_playlist_tracks_df['cat_codes'] == i].iloc[0]['tid']\n",
    "    other_features = tracks_features_df[tracks_features_df['tid'] == tid]\n",
    "    val = [probability[0], *other_features.values.tolist()[0]]\n",
    "    results_df.loc[i] = val\n",
    "results_df = results_df.sort_values(by=['probability'], ascending=False)\n",
    "\n",
    "nmf_preds = results_df.head(NUM_WITHHELD)"
   ]
  },
  {
   "cell_type": "code",
   "execution_count": null,
   "metadata": {},
   "outputs": [],
   "source": [
    "def predictions_nmf():\n",
    "    for idx,row in nmf_preds.iterrows():\n",
    "        yield (row['tid'], playlist_for_test, idx)\n",
    "\n",
    "predictions_nmf_df = pd.DataFrame(predictions_nmf(), columns=['tid','pid', 'pos'])\n",
    "nmf_model_eval = Evaluator(predictions_nmf_df, ground_truth.iloc[25:])\n",
    "nmf_model_eval.evaluate()"
   ]
  }
 ],
 "metadata": {
  "kernelspec": {
   "display_name": "Python 3",
   "language": "python",
   "name": "python3"
  },
  "language_info": {
   "codemirror_mode": {
    "name": "ipython",
    "version": 3
   },
   "file_extension": ".py",
   "mimetype": "text/x-python",
   "name": "python",
   "nbconvert_exporter": "python",
   "pygments_lexer": "ipython3",
   "version": "3.8.5"
  }
 },
 "nbformat": 4,
 "nbformat_minor": 1
}
